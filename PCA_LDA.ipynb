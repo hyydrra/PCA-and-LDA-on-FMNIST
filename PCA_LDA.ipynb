{
  "nbformat": 4,
  "nbformat_minor": 0,
  "metadata": {
    "colab": {
      "name": "IS_Final_Project.ipynb",
      "provenance": [],
      "collapsed_sections": [],
      "toc_visible": true,
      "include_colab_link": true
    },
    "kernelspec": {
      "name": "python3",
      "display_name": "Python 3"
    }
  },
  "cells": [
    {
      "cell_type": "markdown",
      "metadata": {
        "id": "view-in-github",
        "colab_type": "text"
      },
      "source": [
        "<a href=\"https://colab.research.google.com/github/hyydrra/PCA-and-LDA-on-FMNIST/blob/master/IS_Final_Project.ipynb\" target=\"_parent\"><img src=\"https://colab.research.google.com/assets/colab-badge.svg\" alt=\"Open In Colab\"/></a>"
      ]
    },
    {
      "cell_type": "code",
      "metadata": {
        "id": "cD_QFg_Tol0x",
        "colab_type": "code",
        "colab": {}
      },
      "source": [
        "import numpy as np\n",
        "import pandas as pd\n",
        "from sklearn import metrics\n",
        "from sklearn import preprocessing\n",
        "from scipy.stats import multivariate_normal\n",
        "from numpy import linalg as LA\n",
        "from sklearn.preprocessing import StandardScaler\n",
        "from sklearn import preprocessing\n",
        "pd.options.display.max_rows = 10\n",
        "pd.options.display.float_format = '{:.1f}'.format\n",
        "\n",
        "mnist_dataframe = pd.read_csv(\n",
        "  \"https://download.mlcc.google.com/mledu-datasets/mnist_train_small.csv\",\n",
        "  sep=\",\",\n",
        "  header=None)\n",
        "\n",
        "# Use just the first 10,000 records for training/validation.\n",
        "mnist_dataframe = mnist_dataframe.head(10000)\n",
        "mnist_dataframe = mnist_dataframe.reindex(np.random.permutation(mnist_dataframe.index))\n"
      ],
      "execution_count": null,
      "outputs": []
    },
    {
      "cell_type": "code",
      "metadata": {
        "id": "4j8mCuLpowuA",
        "colab_type": "code",
        "colab": {}
      },
      "source": [
        "def parse_labels_and_features(dataset):\n",
        "  \"\"\"Extracts labels and features.\n",
        "  \n",
        "  This is a good place to scale or transform the features if needed.\n",
        "  \n",
        "  Args:\n",
        "    dataset: A Pandas `Dataframe`, containing the label on the first column and\n",
        "      monochrome pixel values on the remaining columns, in row major order.\n",
        "  Returns:\n",
        "    A `tuple` `(labels, features)`:\n",
        "      labels: A Pandas `Series`.\n",
        "      features: A Pandas `DataFrame`.\n",
        "  \"\"\"\n",
        "  labels = dataset[0]\n",
        "\n",
        "  # DataFrame.loc index ranges are inclusive at both ends.\n",
        "  features = dataset.loc[:,1:784]\n",
        "  # Scale the data to [0, 1] by dividing out the max value, 255.\n",
        "  features = features / 255\n",
        "  #x = StandardScaler().fit_transform(features)\n",
        "  #feat_cols = ['feature'+str(i) for i in range(x.shape[1])]\n",
        "  #normalised_breast = pd.DataFrame(x,columns=feat_cols)\n",
        "  return labels, features"
      ],
      "execution_count": null,
      "outputs": []
    },
    {
      "cell_type": "code",
      "metadata": {
        "id": "XGgliYQ0pBd0",
        "colab_type": "code",
        "colab": {}
      },
      "source": [
        "training_labels, norm_train = parse_labels_and_features(mnist_dataframe[:7500])\n",
        "test_labels, norm_test= parse_labels_and_features(mnist_dataframe[7500:10000])\n",
        "test_labelss, norm_testt= parse_labels_and_features(mnist_dataframe[7500:10000])\n",
        "\n",
        "norm_train.reset_index(inplace = True) \n",
        "norm_train = norm_train.drop(\"index\",axis=1)\n",
        "norm_test.reset_index(inplace = True) \n",
        "norm_test = norm_test.drop(\"index\",axis=1)"
      ],
      "execution_count": null,
      "outputs": []
    },
    {
      "cell_type": "code",
      "metadata": {
        "id": "60jfpeKIqbjy",
        "colab_type": "code",
        "colab": {}
      },
      "source": [
        "train_labels=training_labels.values.tolist()\n",
        "test_labels=test_labels.values.tolist()\n",
        "dim=norm_test.shape[1]\n",
        "size_traindata=norm_train.shape[0]\n",
        "size_testdata=norm_test.shape[0]"
      ],
      "execution_count": null,
      "outputs": []
    },
    {
      "cell_type": "code",
      "metadata": {
        "id": "pE7JyZ6Xtp_0",
        "colab_type": "code",
        "colab": {}
      },
      "source": [
        "train_classes={}\n",
        "for i in range(10):\n",
        "  train_classes[i]=[]\n",
        "for i in range(len(train_labels)):\n",
        "  train_classes[int(train_labels[i])].append(i)\n",
        "\n",
        "len_tran_claases={}\n",
        "for i in range(10):\n",
        "  len_tran_claases[i]=len(train_classes[i])\n"
      ],
      "execution_count": null,
      "outputs": []
    },
    {
      "cell_type": "code",
      "metadata": {
        "id": "E_O8k-Qws44p",
        "colab_type": "code",
        "colab": {}
      },
      "source": [
        "def mean_var(class_data):\n",
        "  means = class_data.mean(axis=0)\n",
        "\n",
        "  subtract = class_data-means\n",
        "  #print(means)\n",
        "  variance = np.zeros((class_data.shape[1],class_data.shape[1]))\n",
        "  for i in range(class_data.shape[0]):\n",
        "    x = [list(subtract.iloc[i])]\n",
        "    xT = list(map(list, zip(*x)))\n",
        "    temp= np.dot(xT,x)\n",
        "    variance = variance + temp\n",
        "    #print(variance)\n",
        "  return means,(variance/(class_data.shape[0]))\n",
        "\n",
        "def g_dist(train_data):\n",
        "  dim=train_data.shape[1]\n",
        "  norm_train = train_data\n",
        "  G_dist={}\n",
        "  for j in range(10):\n",
        "    a=0.8\n",
        "    mean,va=mean_var(norm_train.loc[train_classes[j], :] )\n",
        "    va = ((1-a)*va) + (a*(va.trace())/dim)*np.eye(dim, dtype=float)\n",
        "    var = multivariate_normal(mean=mean, cov=va)\n",
        "    G_dist[j] = var\n",
        "  return G_dist"
      ],
      "execution_count": null,
      "outputs": []
    },
    {
      "cell_type": "code",
      "metadata": {
        "id": "8ekCRxdvtSKG",
        "colab_type": "code",
        "colab": {}
      },
      "source": [
        "def validation(G_dist,norm_test):\n",
        "  correct=0\n",
        "  conf_matrix=[]\n",
        "  for i in range(10):\n",
        "    conf_matrix.append([0,0,0,0,0,0,0,0,0,0])\n",
        "\n",
        "  for i in range(len(test_labels)):\n",
        "    max=-100\n",
        "    maxclass=None\n",
        "    inp = list(norm_test.iloc[i])\n",
        "    for j in range(10):\n",
        "      pdf = G_dist[j].pdf(inp)*len(train_classes[j])\n",
        "      if pdf>=max:\n",
        "        max = pdf\n",
        "        maxclass = j\n",
        "    if maxclass==test_labels[i]:\n",
        "      conf_matrix[int(test_labels[i])][int(test_labels[i])] = conf_matrix[int(test_labels[i])][int(test_labels[i])] +1\n",
        "      correct = correct +1\n",
        "    else:\n",
        "      conf_matrix[int(test_labels[i])][maxclass] = conf_matrix[int(test_labels[i])][maxclass] +1\n",
        "  return conf_matrix,correct\n"
      ],
      "execution_count": null,
      "outputs": []
    },
    {
      "cell_type": "code",
      "metadata": {
        "id": "6ekWfjEB2lWE",
        "colab_type": "code",
        "colab": {
          "base_uri": "https://localhost:8080/",
          "height": 204
        },
        "outputId": "d3d2dc66-eabb-4449-e938-8723aadb5f06"
      },
      "source": [
        "G_dist =g_dist(norm_train)\n",
        "conf_matrix,correct = validation(G_dist,norm_test)\n",
        "print(\"percision without prior knowledge: \",correct/norm_test.shape[0])\n",
        "conf_matrix"
      ],
      "execution_count": null,
      "outputs": [
        {
          "output_type": "stream",
          "text": [
            "percision without prior knowledge:  0.9268\n"
          ],
          "name": "stdout"
        },
        {
          "output_type": "execute_result",
          "data": {
            "text/plain": [
              "[[216, 1, 0, 0, 0, 0, 4, 0, 3, 1],\n",
              " [0, 287, 0, 0, 0, 0, 0, 0, 1, 0],\n",
              " [2, 7, 209, 3, 3, 0, 1, 7, 6, 4],\n",
              " [0, 6, 3, 228, 0, 1, 0, 3, 2, 3],\n",
              " [0, 7, 0, 0, 222, 0, 0, 2, 1, 6],\n",
              " [0, 3, 0, 13, 3, 181, 1, 0, 3, 4],\n",
              " [0, 3, 0, 0, 0, 2, 263, 0, 1, 0],\n",
              " [0, 6, 0, 1, 2, 0, 0, 250, 3, 5],\n",
              " [1, 16, 1, 8, 1, 0, 0, 1, 225, 8],\n",
              " [1, 4, 0, 3, 2, 0, 0, 7, 3, 236]]"
            ]
          },
          "metadata": {
            "tags": []
          },
          "execution_count": 8
        }
      ]
    },
    {
      "cell_type": "markdown",
      "metadata": {
        "id": "sD91_qGugB-4",
        "colab_type": "text"
      },
      "source": [
        "# **PCA**"
      ]
    },
    {
      "cell_type": "code",
      "metadata": {
        "id": "SRocPDzFf-xT",
        "colab_type": "code",
        "colab": {}
      },
      "source": [
        "mean,va=mean_var(norm_train)"
      ],
      "execution_count": null,
      "outputs": []
    },
    {
      "cell_type": "code",
      "metadata": {
        "id": "8_D4ZKgiS-td",
        "colab_type": "code",
        "colab": {}
      },
      "source": [
        "val, vec = LA.eig(va)\n",
        "kvec_T = vec[:,0:40].T"
      ],
      "execution_count": null,
      "outputs": []
    },
    {
      "cell_type": "code",
      "metadata": {
        "id": "UXextGZBDdcx",
        "colab_type": "code",
        "colab": {}
      },
      "source": [
        "PCA_train_data = []\n",
        "PCA_test_data = []\n",
        "for j in range(len(train_labels)):\n",
        "    PCA_train_data.append(np.matmul(kvec_T, norm_train.iloc[j].T))\n",
        "\n",
        "for j in range(len(test_labels)):\n",
        "    PCA_test_data.append(np.matmul(kvec_T, norm_test.iloc[j].T))\n",
        "\n",
        "PCA_train_data = np.asanyarray(PCA_train_data).real \n",
        "PCA_test_data = np.asanyarray(PCA_test_data).real\n"
      ],
      "execution_count": null,
      "outputs": []
    },
    {
      "cell_type": "code",
      "metadata": {
        "id": "QGfMgbt3iF_x",
        "colab_type": "code",
        "colab": {}
      },
      "source": [
        "feat_cols = ['feature'+str(i) for i in range(PCA_train_data.shape[1])]\n",
        "PCA_train_data = pd.DataFrame(PCA_train_data,columns=feat_cols)\n",
        "\n",
        "feat_cols = ['feature'+str(i) for i in range(PCA_test_data.shape[1])]\n",
        "PCA_test_data = pd.DataFrame(PCA_test_data,columns=feat_cols)\n"
      ],
      "execution_count": null,
      "outputs": []
    },
    {
      "cell_type": "code",
      "metadata": {
        "id": "H6pw74dTFATn",
        "colab_type": "code",
        "colab": {}
      },
      "source": [
        "PCA_norm_train=((PCA_train_data-PCA_train_data.min())/(1*(PCA_train_data.max()-PCA_train_data.min())))\n",
        "PCA_norm_test=((PCA_test_data-PCA_test_data.min())/(1*(PCA_test_data.max()-PCA_test_data.min())))\n"
      ],
      "execution_count": null,
      "outputs": []
    },
    {
      "cell_type": "code",
      "metadata": {
        "id": "sVm2MYad50zZ",
        "colab_type": "code",
        "colab": {
          "base_uri": "https://localhost:8080/",
          "height": 204
        },
        "outputId": "dfb68151-cdb6-40bd-d0ed-176d023b53be"
      },
      "source": [
        "G_dist =g_dist(PCA_norm_train)\n",
        "conf_matrix,correct = validation(G_dist,PCA_norm_test)\n",
        "print(\"Accuracy without prior knowledge using PCA: \",correct/PCA_norm_test.shape[0])\n",
        "conf_matrix"
      ],
      "execution_count": null,
      "outputs": [
        {
          "output_type": "stream",
          "text": [
            "Accuracy without prior knowledge using PCA:  0.9164\n"
          ],
          "name": "stdout"
        },
        {
          "output_type": "execute_result",
          "data": {
            "text/plain": [
              "[[221, 0, 0, 0, 0, 1, 2, 0, 1, 0],\n",
              " [0, 277, 3, 2, 0, 4, 0, 0, 2, 0],\n",
              " [4, 2, 219, 1, 1, 0, 1, 6, 6, 2],\n",
              " [1, 1, 9, 223, 0, 5, 1, 2, 3, 1],\n",
              " [1, 1, 1, 0, 212, 0, 1, 1, 6, 15],\n",
              " [4, 0, 0, 11, 1, 189, 1, 0, 1, 1],\n",
              " [6, 0, 1, 0, 0, 5, 256, 0, 1, 0],\n",
              " [1, 1, 3, 2, 4, 0, 0, 246, 2, 8],\n",
              " [2, 5, 1, 13, 1, 5, 0, 2, 227, 5],\n",
              " [4, 3, 0, 11, 4, 0, 0, 5, 8, 221]]"
            ]
          },
          "metadata": {
            "tags": []
          },
          "execution_count": 14
        }
      ]
    },
    {
      "cell_type": "markdown",
      "metadata": {
        "id": "I6s3j4HlfC9w",
        "colab_type": "text"
      },
      "source": [
        "**LDA**"
      ]
    },
    {
      "cell_type": "code",
      "metadata": {
        "id": "3vDFinSTdREX",
        "colab_type": "code",
        "colab": {}
      },
      "source": [
        "mean_train = []\n",
        "#norm_train = np.asanyarray(norm_train)\n",
        "classes = {0:[], 1:[], 2:[], 3:[], 4:[], 5:[], 6:[], 7:[], 8:[], 9:[]}\n",
        "scatterI = {0:[], 1:[], 2:[], 3:[], 4:[], 5:[], 6:[], 7:[], 8:[], 9:[]}\n",
        "\n",
        "for i in range (len(train_labels)):\n",
        "    classes[train_labels[i]].append(norm_train.iloc[i])\n",
        "    \n",
        "for i in range(10):\n",
        "    mean_train.append(np.mean(classes[i], axis = 0))\n",
        "    \n",
        "    \n",
        "for i in range(10):\n",
        "    scatter = np.zeros([norm_train.shape[1], norm_train.shape[1]])\n",
        "    for j in range(len(classes[i])):\n",
        "        tmp = np.array([np.subtract(classes[i][j], mean_train[i])])\n",
        "        tmp2 = tmp.T\n",
        "        scatter += np.multiply(tmp, tmp2)\n",
        "    scatterI[i] = (scatter)\n",
        "\n",
        "scatterW = np.zeros([norm_train.shape[1], norm_train.shape[1]])\n",
        "for i in range(10):\n",
        "    scatterW = np.add(scatterW, scatterI[i])\n",
        "\n",
        "meanAll = np.mean(norm_train, axis = 0)\n",
        "\n",
        "scatterB = np.zeros([norm_train.shape[1], norm_train.shape[1]])\n",
        "\n",
        "for i in range(10):\n",
        "    tmp = np.array([np.subtract(mean_train[i], meanAll)])\n",
        "    tmp2 = tmp.T\n",
        "    scatterB += np.multiply(tmp, tmp2)\n",
        "\n",
        "\n",
        "a=0.8 \n",
        "temp =  ((1-a)*scatterW) + (a*(scatterW.trace())/dim)*np.eye(dim, dtype=float)  \n",
        "invscatterW = np.linalg.inv(temp)\n",
        "\n",
        "ScatterP = np.matmul(invscatterW, scatterB)\n",
        "\n"
      ],
      "execution_count": null,
      "outputs": []
    },
    {
      "cell_type": "code",
      "metadata": {
        "id": "7uAe9DmPeTTO",
        "colab_type": "code",
        "colab": {}
      },
      "source": [
        "val1, vec1 = LA.eig(ScatterP)\n",
        "kvec_T1 = vec1[:,0:40].T"
      ],
      "execution_count": null,
      "outputs": []
    },
    {
      "cell_type": "code",
      "metadata": {
        "id": "StNI4YVYfvaX",
        "colab_type": "code",
        "colab": {
          "base_uri": "https://localhost:8080/",
          "height": 204
        },
        "outputId": "718a8c82-54d0-406d-9672-a96d828e5b36"
      },
      "source": [
        "LDA_train_data = []\n",
        "LDA_test_data = []\n",
        "for j in range(len(train_labels)):\n",
        "    LDA_train_data.append(np.matmul(kvec_T1, norm_train.iloc[j].T))\n",
        "\n",
        "for j in range(len(test_labels)):\n",
        "    LDA_test_data.append(np.matmul(kvec_T1, norm_test.iloc[j].T))\n",
        "\n",
        "LDA_train_data = np.asanyarray(LDA_train_data).real \n",
        "LDA_test_data = np.asanyarray(LDA_test_data).real\n",
        "\n",
        "feat_cols = ['feature'+str(i) for i in range(LDA_train_data.shape[1])]\n",
        "LDA_train_data = pd.DataFrame(LDA_train_data,columns=feat_cols)\n",
        "feat_cols = ['feature'+str(i) for i in range(LDA_test_data.shape[1])]\n",
        "LDA_test_data = pd.DataFrame(LDA_test_data,columns=feat_cols)\n",
        "\n",
        "LDA_norm_train=((LDA_train_data-LDA_train_data.min())/(1*(LDA_train_data.max()-LDA_train_data.min())))\n",
        "LDA_norm_test=((LDA_test_data-LDA_test_data.min())/(1*(LDA_test_data.max()-LDA_test_data.min())))\n",
        "\n",
        "\n",
        "G_dist1 = g_dist(LDA_norm_train)\n",
        "\n",
        "LDA_Correct = 0\n",
        "conf_matrix=[]\n",
        "for i in range(10):\n",
        "  conf_matrix.append([0,0,0,0,0,0,0,0,0,0])\n",
        "\n",
        "for i in range(len(test_labels)):\n",
        "  maxx=0\n",
        "  maxclass=None\n",
        "  inp = list(LDA_norm_test.iloc[i])\n",
        "  for j in range(10):\n",
        "    pdf = G_dist1[j].pdf(inp)*len(train_classes[j])\n",
        "    if pdf>=maxx:\n",
        "      maxx = pdf\n",
        "      maxclass = j\n",
        "  if maxclass==test_labelss.iloc[i]:\n",
        "    conf_matrix[int(test_labelss.iloc[i])][int(test_labelss.iloc[i])] = conf_matrix[int(test_labelss.iloc[i])][int(test_labelss.iloc[i])] +1\n",
        "    LDA_Correct = LDA_Correct +1\n",
        "  else:\n",
        "    conf_matrix[int(test_labelss.iloc[i])][maxclass] = conf_matrix[int(test_labelss.iloc[i])][maxclass] +1\n",
        "\n",
        "print(\"Accuracy without prior knowledge using LDA: \",LDA_Correct/test_labelss.shape[0])\n",
        "conf_matrix"
      ],
      "execution_count": null,
      "outputs": [
        {
          "output_type": "stream",
          "text": [
            "Accuracy without prior knowledge using LDA:  0.8896\n"
          ],
          "name": "stdout"
        },
        {
          "output_type": "execute_result",
          "data": {
            "text/plain": [
              "[[213, 0, 0, 0, 1, 2, 7, 0, 2, 0],\n",
              " [0, 278, 0, 2, 0, 0, 1, 0, 7, 0],\n",
              " [4, 9, 194, 5, 2, 1, 7, 5, 13, 2],\n",
              " [0, 2, 6, 216, 0, 8, 3, 2, 6, 3],\n",
              " [0, 2, 0, 1, 211, 0, 2, 1, 5, 16],\n",
              " [6, 2, 0, 10, 4, 174, 0, 1, 5, 6],\n",
              " [2, 2, 0, 0, 2, 5, 256, 0, 2, 0],\n",
              " [1, 7, 4, 1, 5, 0, 1, 238, 2, 8],\n",
              " [2, 5, 0, 10, 1, 9, 1, 0, 225, 8],\n",
              " [4, 2, 1, 9, 9, 1, 0, 2, 9, 219]]"
            ]
          },
          "metadata": {
            "tags": []
          },
          "execution_count": 17
        }
      ]
    }
  ]
}
